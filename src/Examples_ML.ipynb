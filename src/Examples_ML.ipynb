{
 "cells": [
  {
   "cell_type": "code",
   "execution_count": 1,
   "metadata": {
    "collapsed": true
   },
   "outputs": [],
   "source": [
    "import ml\n",
    "import nlp\n",
    "import json_io\n",
    "import pickle\n",
    "from itertools import chain\n",
    "from dvs import DictVectorizerPartial\n",
    "import numpy as np"
   ]
  },
  {
   "cell_type": "markdown",
   "metadata": {},
   "source": [
    "### Process comments"
   ]
  },
  {
   "cell_type": "code",
   "execution_count": 2,
   "metadata": {
    "collapsed": true
   },
   "outputs": [],
   "source": [
    "path = ml.JSON_DIR+\"twitter/\"\n",
    "sarcastic_path = path+\"sarcastic/\"\n",
    "serious_path = path+\"serious/\"\n",
    "source = '-twitter-'\n",
    "features_path = 'features/'\n",
    "n=1"
   ]
  },
  {
   "cell_type": "code",
   "execution_count": 3,
   "metadata": {},
   "outputs": [
    {
     "name": "stdout",
     "output_type": "stream",
     "text": [
      "File unique.json\ttime:\t0:05:49.941728\n",
      "Processed 52679 json lines\n",
      "File unique.json\ttime:\t0:14:57.310423\n",
      "Processed 163298 json lines\n"
     ]
    }
   ],
   "source": [
    "json_io.processRandomizeJson(sarcastic=True,\n",
    "                     json_path=sarcastic_path,\n",
    "                     features_path=features_path,\n",
    "                     source=source,\n",
    "                     n=n,\n",
    "                     cleanTokens=nlp.cleanTokensTwitter)\n",
    "json_io.processRandomizeJson(sarcastic=False,\n",
    "                     json_path=serious_path,\n",
    "                     features_path=features_path,\n",
    "                     source=source,\n",
    "                     n=n,\n",
    "                     cleanTokens=nlp.cleanTokensTwitter)"
   ]
  },
  {
   "cell_type": "markdown",
   "metadata": {},
   "source": [
    "### Load set of features"
   ]
  },
  {
   "cell_type": "code",
   "execution_count": 4,
   "metadata": {
    "collapsed": true
   },
   "outputs": [],
   "source": [
    "sarcasticFeats = json_io.loadProcessedFeatures(features_path,\n",
    "                                       source,\n",
    "                                       sarcastic=True,\n",
    "                                       n=n,\n",
    "                                       random=False)\n",
    "seriousFeats = json_io.loadProcessedFeatures(features_path,\n",
    "                                     source,\n",
    "                                     sarcastic=False,\n",
    "                                     n=n,\n",
    "                                     random=False)\n",
    "features = chain(sarcasticFeats, seriousFeats)"
   ]
  },
  {
   "cell_type": "markdown",
   "metadata": {},
   "source": [
    "### Train and test, reports results"
   ]
  },
  {
   "cell_type": "code",
   "execution_count": 5,
   "metadata": {},
   "outputs": [],
   "source": [
    "dvp = DictVectorizerPartial()"
   ]
  },
  {
   "cell_type": "code",
   "execution_count": 6,
   "metadata": {
    "collapsed": true
   },
   "outputs": [],
   "source": [
    "(X,y) = ml.split_feat(features, 2)"
   ]
  },
  {
   "cell_type": "code",
   "execution_count": null,
   "metadata": {
    "collapsed": true
   },
   "outputs": [],
   "source": [
    "(X,y) = ml.flatten(X,y)"
   ]
  },
  {
   "cell_type": "code",
   "execution_count": null,
   "metadata": {},
   "outputs": [],
   "source": [
    "(X,y) = (dvp.partial_fit_transform(X), np.array(list(y)))"
   ]
  },
  {
   "cell_type": "code",
   "execution_count": null,
   "metadata": {
    "collapsed": true
   },
   "outputs": [],
   "source": [
    "pickle.dump(dvp, open('pickled/-twitter-dvp.pickle', 'wb'))\n",
    "pickle.dump(y, open('pickled/-twitter-y.pickle', 'wb'))\n",
    "pickle.dump(X, open('pickled/-twitter-X.pickle', 'wb'))"
   ]
  },
  {
   "cell_type": "code",
   "execution_count": null,
   "metadata": {
    "collapsed": true
   },
   "outputs": [],
   "source": [
    "X = pickle.load(open('pickled/-twitter-X.pickle', 'rb'))\n",
    "y = pickle.load(open('pickled/-twitter-y.pickle', 'rb'))"
   ]
  },
  {
   "cell_type": "markdown",
   "metadata": {},
   "source": [
    "### Train and test, reports results"
   ]
  },
  {
   "cell_type": "code",
   "execution_count": null,
   "metadata": {},
   "outputs": [],
   "source": [
    "from sklearn.linear_model import LogisticRegression, SGDClassifier\n",
    "from sklearn.naive_bayes import BernoulliNB, MultinomialNB\n",
    "classifiers = [\n",
    "    LogisticRegression(n_jobs=-1),\n",
    "    #SGDClassifier(loss='log'),\n",
    "    BernoulliNB(),\n",
    "    MultinomialNB(),\n",
    "]"
   ]
  },
  {
   "cell_type": "code",
   "execution_count": null,
   "metadata": {
    "scrolled": false
   },
   "outputs": [],
   "source": [
    "results = []\n",
    "for reduceamount in [0, 1000000, 500000, 100000, 50000, 25000, 10000, 7500, 5000, 2500, 1500, 1000, 750, 500, 250, 100, 50, 10, 5]:\n",
    "    print(\"\\n\\t\\tReduction: \"+str(reduceamount))\n",
    "    for trainsize in [0.01, 0.05, 0.1, 0.2, 0.4, 0.6, 0.8]:\n",
    "        print(\"\\n\\t\\tTraining size: \"+str(trainsize))\n",
    "        results.append(\n",
    "            ml.trainTest(X,\n",
    "                         y,\n",
    "                         classifiers=classifiers,\n",
    "                         reduce=reduceamount,\n",
    "                         splits=2,\n",
    "                         trainsize=trainsize,\n",
    "                         testsize=0.2))\n",
    "pickle.dump(results, open('pickled/-twitter-trained.pickle', 'wb'))\n",
    "print(results)"
   ]
  }
 ],
 "metadata": {
  "anaconda-cloud": {},
  "kernelspec": {
   "display_name": "Python [conda root]",
   "language": "python",
   "name": "conda-root-py"
  },
  "language_info": {
   "codemirror_mode": {
    "name": "ipython",
    "version": 3
   },
   "file_extension": ".py",
   "mimetype": "text/x-python",
   "name": "python",
   "nbconvert_exporter": "python",
   "pygments_lexer": "ipython3",
   "version": "3.5.2"
  }
 },
 "nbformat": 4,
 "nbformat_minor": 1
}
