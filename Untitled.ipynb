{
 "cells": [
  {
   "cell_type": "code",
   "execution_count": 52,
   "metadata": {
    "collapsed": false
   },
   "outputs": [
    {
     "name": "stdout",
     "output_type": "stream",
     "text": [
      "finished file 5\n",
      "0\t530461\n",
      "finished file 6\n",
      "0\t1101586\n",
      "finished file 7\n",
      "0\t1687595\n",
      "finished file 8\n",
      "0\t2276788\n",
      "finished file 9\n",
      "0\t2949921\n",
      "finished file 10\n",
      "0\t3730670\n",
      "finished file 11\n",
      "0\t4514472\n",
      "finished file 12\n",
      "0\t5355304\n",
      "\n",
      "\n",
      "0\t5355304\n"
     ]
    }
   ],
   "source": [
    "import json\n",
    "from pprint import pprint\n",
    "\n",
    "s=0\n",
    "ns=0\n",
    "for x in [5,6,7,8,9,10,11,12]:\n",
    "    with open(str(x)) as data_file:\n",
    "        for line in data_file:\n",
    "            if any(s in json.loads(line)['body'] for s in [\"/s\",\"\\s\", \"[?]\", \"[!]\", \"</Fe>\", \":^\", \".~\", \". ~\"]):\n",
    "                count+=1\n",
    "            else:\n",
    "                ns+=1\n",
    "        print(\"finished file \" + str(x))\n",
    "        print(str(s) + \"\\t\" + str(ns))\n",
    "print(\"\\n\\n\" + str(s) + \"\\t\" + str(ns))"
   ]
  },
  {
   "cell_type": "code",
   "execution_count": null,
   "metadata": {
    "collapsed": false
   },
   "outputs": [],
   "source": []
  },
  {
   "cell_type": "code",
   "execution_count": null,
   "metadata": {
    "collapsed": true
   },
   "outputs": [],
   "source": []
  }
 ],
 "metadata": {
  "anaconda-cloud": {},
  "kernelspec": {
   "display_name": "Python [conda root]",
   "language": "python",
   "name": "conda-root-py"
  },
  "language_info": {
   "codemirror_mode": {
    "name": "ipython",
    "version": 3
   },
   "file_extension": ".py",
   "mimetype": "text/x-python",
   "name": "python",
   "nbconvert_exporter": "python",
   "pygments_lexer": "ipython3",
   "version": "3.5.2"
  }
 },
 "nbformat": 4,
 "nbformat_minor": 1
}
