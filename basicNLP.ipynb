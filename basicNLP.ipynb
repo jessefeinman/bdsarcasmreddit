{
 "cells": [
  {
   "cell_type": "code",
   "execution_count": 2,
   "metadata": {
    "collapsed": false,
    "scrolled": true
   },
   "outputs": [],
   "source": [
    "# ignore twython library missing, we aren't using it's functionality\n",
    "# Must use nltk.download() and get the Opinion Lexicon and Vader Lexicon\n",
    "from nlp import *"
   ]
  },
  {
   "cell_type": "markdown",
   "metadata": {},
   "source": [
    "## Tokenize and Tag"
   ]
  },
  {
   "cell_type": "code",
   "execution_count": 3,
   "metadata": {
    "collapsed": false,
    "scrolled": true
   },
   "outputs": [
    {
     "data": {
      "text/plain": [
       "['I',\n",
       " 'had',\n",
       " 'my',\n",
       " 'suspicions',\n",
       " 'in',\n",
       " 'early',\n",
       " '2003',\n",
       " 'Who',\n",
       " \"wouldn't\",\n",
       " 'That',\n",
       " 'is',\n",
       " 'why',\n",
       " 'when',\n",
       " 'my',\n",
       " 'wife',\n",
       " 'Stacy',\n",
       " 'out',\n",
       " 'on',\n",
       " 'her',\n",
       " 'daily',\n",
       " 'walk',\n",
       " 'yesterday',\n",
       " 'I',\n",
       " 'texted',\n",
       " 'my',\n",
       " 'Stacy',\n",
       " 'that',\n",
       " 'I',\n",
       " 'was',\n",
       " 'going',\n",
       " 'shopping',\n",
       " 'and',\n",
       " 'I',\n",
       " 'would',\n",
       " 'be',\n",
       " 'back',\n",
       " 'soon']"
      ]
     },
     "execution_count": 3,
     "metadata": {},
     "output_type": "execute_result"
    }
   ],
   "source": [
    "text = \"\"\"I had my suspicions in early 2003. Who wouldn't? That is why when my wife, Stacy, out on her daily walk yesterday, I texted my Stacy that I was going shopping and I would be back soon.\"\"\"\n",
    "\n",
    "tokens = tokenize(text)\n",
    "tok = tokenizeFindAllRegex(r\"\"\"([A-Za-z0-9&]+[']?[A-Za-z]?)\"\"\")\n",
    "tokens = tok(text)\n",
    "tagged = pos(tokens)\n",
    "tokens"
   ]
  },
  {
   "cell_type": "markdown",
   "metadata": {},
   "source": [
    "## Lemmatize"
   ]
  },
  {
   "cell_type": "code",
   "execution_count": 4,
   "metadata": {
    "collapsed": false
   },
   "outputs": [
    {
     "data": {
      "text/plain": [
       "['I',\n",
       " 'have',\n",
       " 'my',\n",
       " 'suspicion',\n",
       " 'in',\n",
       " 'early',\n",
       " '2003',\n",
       " 'Who',\n",
       " \"wouldn't\",\n",
       " 'That',\n",
       " 'be',\n",
       " 'why',\n",
       " 'when',\n",
       " 'my',\n",
       " 'wife',\n",
       " 'Stacy',\n",
       " 'out',\n",
       " 'on',\n",
       " 'her',\n",
       " 'daily',\n",
       " 'walk',\n",
       " 'yesterday',\n",
       " 'I',\n",
       " 'texted',\n",
       " 'my',\n",
       " 'Stacy',\n",
       " 'that',\n",
       " 'I',\n",
       " 'be',\n",
       " 'go',\n",
       " 'shopping',\n",
       " 'and',\n",
       " 'I',\n",
       " 'would',\n",
       " 'be',\n",
       " 'back',\n",
       " 'soon']"
      ]
     },
     "execution_count": 4,
     "metadata": {},
     "output_type": "execute_result"
    }
   ],
   "source": [
    "lemmatize(tagged)"
   ]
  },
  {
   "cell_type": "markdown",
   "metadata": {},
   "source": [
    "### Process Suffixes"
   ]
  },
  {
   "cell_type": "code",
   "execution_count": 5,
   "metadata": {
    "collapsed": false,
    "scrolled": true
   },
   "outputs": [
    {
     "data": {
      "text/plain": [
       "{'cy': 2,\n",
       " 'ed': 1,\n",
       " 'en': 1,\n",
       " 'er': 1,\n",
       " 'ily': 1,\n",
       " 'ing': 2,\n",
       " 'ly': 1,\n",
       " 's': 3,\n",
       " 'y': 5}"
      ]
     },
     "execution_count": 5,
     "metadata": {},
     "output_type": "execute_result"
    }
   ],
   "source": [
    "tokenSuffixes(tokens)\n",
    "dict(freq(tokenSuffixes(tokens)))"
   ]
  },
  {
   "cell_type": "markdown",
   "metadata": {},
   "source": [
    "## Create N-Grams"
   ]
  },
  {
   "cell_type": "code",
   "execution_count": 6,
   "metadata": {
    "collapsed": false,
    "scrolled": true
   },
   "outputs": [
    {
     "data": {
      "text/plain": [
       "{('2003',): 1,\n",
       " ('I',): 4,\n",
       " ('Stacy',): 2,\n",
       " ('That',): 1,\n",
       " ('Who',): 1,\n",
       " ('and',): 1,\n",
       " ('back',): 1,\n",
       " ('be',): 1,\n",
       " ('daily',): 1,\n",
       " ('early',): 1,\n",
       " ('going',): 1,\n",
       " ('had',): 1,\n",
       " ('her',): 1,\n",
       " ('in',): 1,\n",
       " ('is',): 1,\n",
       " ('my',): 3,\n",
       " ('on',): 1,\n",
       " ('out',): 1,\n",
       " ('shopping',): 1,\n",
       " ('soon',): 1,\n",
       " ('suspicions',): 1,\n",
       " ('texted',): 1,\n",
       " ('that',): 1,\n",
       " ('walk',): 1,\n",
       " ('was',): 1,\n",
       " ('when',): 1,\n",
       " ('why',): 1,\n",
       " ('wife',): 1,\n",
       " ('would',): 1,\n",
       " (\"wouldn't\",): 1,\n",
       " ('yesterday',): 1}"
      ]
     },
     "execution_count": 6,
     "metadata": {},
     "output_type": "execute_result"
    }
   ],
   "source": [
    "dict(freq(grams(tokens, 1)))"
   ]
  },
  {
   "cell_type": "markdown",
   "metadata": {},
   "source": [
    "\n",
    "## POS Grams"
   ]
  },
  {
   "cell_type": "code",
   "execution_count": 7,
   "metadata": {
    "collapsed": false,
    "scrolled": true
   },
   "outputs": [
    {
     "data": {
      "text/plain": [
       "FreqDist({('CC', 'PRP', 'MD'): 1,\n",
       "          ('CD', 'WP', 'VBP'): 1,\n",
       "          ('DT', 'VBZ', 'WRB'): 1,\n",
       "          ('IN', 'JJ', 'CD'): 1,\n",
       "          ('IN', 'PRP', 'VBD'): 1,\n",
       "          ('IN', 'PRP$', 'JJ'): 1,\n",
       "          ('JJ', 'CD', 'WP'): 1,\n",
       "          ('JJ', 'NN', 'NN'): 1,\n",
       "          ('MD', 'VB', 'RB'): 1,\n",
       "          ('NN', 'CC', 'PRP'): 1,\n",
       "          ('NN', 'IN', 'PRP'): 1,\n",
       "          ('NN', 'NN', 'PRP'): 1,\n",
       "          ('NN', 'NNP', 'RP'): 1,\n",
       "          ('NN', 'PRP', 'VBD'): 1,\n",
       "          ('NNP', 'RP', 'IN'): 1,\n",
       "          ('NNS', 'IN', 'JJ'): 1,\n",
       "          ('PRP', 'MD', 'VB'): 1,\n",
       "          ('PRP', 'VBD', 'PRP$'): 2,\n",
       "          ('PRP', 'VBD', 'VBG'): 1,\n",
       "          ('PRP$', 'JJ', 'NN'): 1,\n",
       "          ('PRP$', 'NN', 'IN'): 1,\n",
       "          ('PRP$', 'NN', 'NNP'): 1,\n",
       "          ('PRP$', 'NNS', 'IN'): 1,\n",
       "          ('RP', 'IN', 'PRP$'): 1,\n",
       "          ('VB', 'RB', 'RB'): 1,\n",
       "          ('VBD', 'PRP$', 'NN'): 1,\n",
       "          ('VBD', 'PRP$', 'NNS'): 1,\n",
       "          ('VBD', 'VBG', 'NN'): 1,\n",
       "          ('VBG', 'NN', 'CC'): 1,\n",
       "          ('VBP', 'DT', 'VBZ'): 1,\n",
       "          ('VBZ', 'WRB', 'WRB'): 1,\n",
       "          ('WP', 'VBP', 'DT'): 1,\n",
       "          ('WRB', 'PRP$', 'NN'): 1,\n",
       "          ('WRB', 'WRB', 'PRP$'): 1})"
      ]
     },
     "execution_count": 7,
     "metadata": {},
     "output_type": "execute_result"
    }
   ],
   "source": [
    "posOnly = posTagOnly(tagged)\n",
    "freq(grams(posOnly, 3))"
   ]
  },
  {
   "cell_type": "markdown",
   "metadata": {},
   "source": [
    "## Syllable grams"
   ]
  },
  {
   "cell_type": "code",
   "execution_count": 8,
   "metadata": {
    "collapsed": false
   },
   "outputs": [
    {
     "data": {
      "text/plain": [
       "[(1, 1, 3),\n",
       " (1, 3, 1),\n",
       " (3, 1, 2),\n",
       " (1, 2, 2),\n",
       " (2, 2, 1),\n",
       " (2, 1, 1),\n",
       " (1, 1, 1),\n",
       " (1, 1, 1),\n",
       " (1, 1, 1),\n",
       " (1, 1, 1),\n",
       " (1, 1, 1),\n",
       " (1, 1, 1),\n",
       " (1, 1, 2),\n",
       " (1, 2, 1),\n",
       " (2, 1, 3),\n",
       " (1, 3, 1),\n",
       " (3, 1, 1),\n",
       " (1, 1, 1),\n",
       " (1, 1, 2),\n",
       " (1, 2, 2),\n",
       " (2, 2, 1),\n",
       " (2, 1, 1),\n",
       " (1, 1, 1),\n",
       " (1, 1, 1),\n",
       " (1, 1, 1)]"
      ]
     },
     "execution_count": 8,
     "metadata": {},
     "output_type": "execute_result"
    }
   ],
   "source": [
    "syllableGrams(tokens, 3)"
   ]
  },
  {
   "cell_type": "markdown",
   "metadata": {},
   "source": [
    "## Vowelless grams"
   ]
  },
  {
   "cell_type": "code",
   "execution_count": 9,
   "metadata": {
    "collapsed": false,
    "scrolled": false
   },
   "outputs": [
    {
     "data": {
      "text/plain": [
       "[(1, 1, 0),\n",
       " (1, 0, 1),\n",
       " (0, 1, 1),\n",
       " (1, 1, 1),\n",
       " (1, 1, 0),\n",
       " (1, 0, 1),\n",
       " (0, 1, 1),\n",
       " (1, 1, 1),\n",
       " (1, 1, 1),\n",
       " (1, 1, 0),\n",
       " (1, 0, 1),\n",
       " (0, 1, 0),\n",
       " (1, 0, 1),\n",
       " (0, 1, 1),\n",
       " (1, 1, 1),\n",
       " (1, 1, 1),\n",
       " (1, 1, 1),\n",
       " (1, 1, 1),\n",
       " (1, 1, 1),\n",
       " (1, 1, 1),\n",
       " (1, 1, 1),\n",
       " (1, 1, 1),\n",
       " (1, 1, 0),\n",
       " (1, 0, 1),\n",
       " (0, 1, 1),\n",
       " (1, 1, 1),\n",
       " (1, 1, 1),\n",
       " (1, 1, 1),\n",
       " (1, 1, 1),\n",
       " (1, 1, 1),\n",
       " (1, 1, 1),\n",
       " (1, 1, 1),\n",
       " (1, 1, 1),\n",
       " (1, 1, 1),\n",
       " (1, 1, 1)]"
      ]
     },
     "execution_count": 9,
     "metadata": {},
     "output_type": "execute_result"
    }
   ],
   "source": [
    "vowelGrams(tokens, 3)"
   ]
  },
  {
   "cell_type": "markdown",
   "metadata": {},
   "source": [
    "## Uppercase/Lowercase"
   ]
  },
  {
   "cell_type": "code",
   "execution_count": 10,
   "metadata": {
    "collapsed": false,
    "scrolled": true
   },
   "outputs": [],
   "source": [
    "ull = upperLowerLen(tokens)"
   ]
  },
  {
   "cell_type": "code",
   "execution_count": 11,
   "metadata": {
    "collapsed": false,
    "scrolled": true
   },
   "outputs": [
    {
     "data": {
      "text/plain": [
       "0.06201550387596899"
      ]
     },
     "execution_count": 11,
     "metadata": {},
     "output_type": "execute_result"
    }
   ],
   "source": [
    "capLetterFreq(ull)"
   ]
  },
  {
   "cell_type": "code",
   "execution_count": 12,
   "metadata": {
    "collapsed": false,
    "scrolled": true
   },
   "outputs": [],
   "source": [
    "cases = wordCases(ull)"
   ]
  },
  {
   "cell_type": "code",
   "execution_count": 13,
   "metadata": {
    "collapsed": false,
    "scrolled": true
   },
   "outputs": [
    {
     "data": {
      "text/plain": [
       "FreqDist({('AC', 'NC', 'NC'): 4,\n",
       "          ('FC', 'NC', 'AC'): 1,\n",
       "          ('FC', 'NC', 'FC'): 1,\n",
       "          ('FC', 'NC', 'NC'): 2,\n",
       "          ('NC', 'AC', 'NC'): 3,\n",
       "          ('NC', 'FC', 'NC'): 4,\n",
       "          ('NC', 'NC', 'AC'): 2,\n",
       "          ('NC', 'NC', 'FC'): 3,\n",
       "          ('NC', 'NC', 'NC'): 15})"
      ]
     },
     "execution_count": 13,
     "metadata": {},
     "output_type": "execute_result"
    }
   ],
   "source": [
    "freq(grams(cases, 3))"
   ]
  },
  {
   "cell_type": "code",
   "execution_count": 14,
   "metadata": {
    "collapsed": false
   },
   "outputs": [
    {
     "data": {
      "text/plain": [
       "[{'LiuHu': {'compound': 0.0, 'neg': 0.0, 'neu': 1.0, 'pos': 0.0},\n",
       "  'Vader': {'compound': 0.0, 'neg': 0.0, 'neu': 1.0, 'pos': 0.0}},\n",
       " {'LiuHu': {'compound': -0.333, 'neg': 0.3333, 'neu': 0.6667, 'pos': 0.0},\n",
       "  'Vader': {'compound': -0.3612, 'neg': 0.556, 'neu': 0.444, 'pos': 0.0}},\n",
       " {'LiuHu': {'compound': -0.333, 'neg': 0.3333, 'neu': 0.6667, 'pos': 0.0},\n",
       "  'Vader': {'compound': -0.3612, 'neg': 0.556, 'neu': 0.444, 'pos': 0.0}},\n",
       " {'LiuHu': {'compound': -0.333, 'neg': 0.3333, 'neu': 0.6667, 'pos': 0.0},\n",
       "  'Vader': {'compound': -0.3612, 'neg': 0.556, 'neu': 0.444, 'pos': 0.0}},\n",
       " {'LiuHu': {'compound': 0.0, 'neg': 0.0, 'neu': 1.0, 'pos': 0.0},\n",
       "  'Vader': {'compound': 0.0, 'neg': 0.0, 'neu': 1.0, 'pos': 0.0}},\n",
       " {'LiuHu': {'compound': 0.0, 'neg': 0.0, 'neu': 1.0, 'pos': 0.0},\n",
       "  'Vader': {'compound': 0.0, 'neg': 0.0, 'neu': 1.0, 'pos': 0.0}},\n",
       " {'LiuHu': {'compound': 0.0, 'neg': 0.0, 'neu': 1.0, 'pos': 0.0},\n",
       "  'Vader': {'compound': 0.0, 'neg': 0.0, 'neu': 1.0, 'pos': 0.0}},\n",
       " {'LiuHu': {'compound': 0.0, 'neg': 0.0, 'neu': 1.0, 'pos': 0.0},\n",
       "  'Vader': {'compound': 0.0, 'neg': 0.0, 'neu': 1.0, 'pos': 0.0}},\n",
       " {'LiuHu': {'compound': 0.0, 'neg': 0.0, 'neu': 1.0, 'pos': 0.0},\n",
       "  'Vader': {'compound': 0.0, 'neg': 0.0, 'neu': 1.0, 'pos': 0.0}},\n",
       " {'LiuHu': {'compound': 0.0, 'neg': 0.0, 'neu': 1.0, 'pos': 0.0},\n",
       "  'Vader': {'compound': 0.0, 'neg': 0.0, 'neu': 1.0, 'pos': 0.0}},\n",
       " {'LiuHu': {'compound': 0.0, 'neg': 0.0, 'neu': 1.0, 'pos': 0.0},\n",
       "  'Vader': {'compound': 0.0, 'neg': 0.0, 'neu': 1.0, 'pos': 0.0}},\n",
       " {'LiuHu': {'compound': 0.0, 'neg': 0.0, 'neu': 1.0, 'pos': 0.0},\n",
       "  'Vader': {'compound': 0.0, 'neg': 0.0, 'neu': 1.0, 'pos': 0.0}},\n",
       " {'LiuHu': {'compound': 0.0, 'neg': 0.0, 'neu': 1.0, 'pos': 0.0},\n",
       "  'Vader': {'compound': 0.0, 'neg': 0.0, 'neu': 1.0, 'pos': 0.0}},\n",
       " {'LiuHu': {'compound': 0.0, 'neg': 0.0, 'neu': 1.0, 'pos': 0.0},\n",
       "  'Vader': {'compound': 0.0, 'neg': 0.0, 'neu': 1.0, 'pos': 0.0}},\n",
       " {'LiuHu': {'compound': 0.0, 'neg': 0.0, 'neu': 1.0, 'pos': 0.0},\n",
       "  'Vader': {'compound': 0.0, 'neg': 0.0, 'neu': 1.0, 'pos': 0.0}},\n",
       " {'LiuHu': {'compound': 0.0, 'neg': 0.0, 'neu': 1.0, 'pos': 0.0},\n",
       "  'Vader': {'compound': 0.0, 'neg': 0.0, 'neu': 1.0, 'pos': 0.0}},\n",
       " {'LiuHu': {'compound': 0.0, 'neg': 0.0, 'neu': 1.0, 'pos': 0.0},\n",
       "  'Vader': {'compound': 0.0, 'neg': 0.0, 'neu': 1.0, 'pos': 0.0}},\n",
       " {'LiuHu': {'compound': 0.0, 'neg': 0.0, 'neu': 1.0, 'pos': 0.0},\n",
       "  'Vader': {'compound': 0.0, 'neg': 0.0, 'neu': 1.0, 'pos': 0.0}},\n",
       " {'LiuHu': {'compound': 0.0, 'neg': 0.0, 'neu': 1.0, 'pos': 0.0},\n",
       "  'Vader': {'compound': 0.0, 'neg': 0.0, 'neu': 1.0, 'pos': 0.0}},\n",
       " {'LiuHu': {'compound': 0.0, 'neg': 0.0, 'neu': 1.0, 'pos': 0.0},\n",
       "  'Vader': {'compound': 0.0, 'neg': 0.0, 'neu': 1.0, 'pos': 0.0}},\n",
       " {'LiuHu': {'compound': 0.0, 'neg': 0.0, 'neu': 1.0, 'pos': 0.0},\n",
       "  'Vader': {'compound': 0.0, 'neg': 0.0, 'neu': 1.0, 'pos': 0.0}},\n",
       " {'LiuHu': {'compound': 0.0, 'neg': 0.0, 'neu': 1.0, 'pos': 0.0},\n",
       "  'Vader': {'compound': 0.0, 'neg': 0.0, 'neu': 1.0, 'pos': 0.0}},\n",
       " {'LiuHu': {'compound': 0.0, 'neg': 0.0, 'neu': 1.0, 'pos': 0.0},\n",
       "  'Vader': {'compound': 0.0, 'neg': 0.0, 'neu': 1.0, 'pos': 0.0}},\n",
       " {'LiuHu': {'compound': 0.0, 'neg': 0.0, 'neu': 1.0, 'pos': 0.0},\n",
       "  'Vader': {'compound': 0.0, 'neg': 0.0, 'neu': 1.0, 'pos': 0.0}},\n",
       " {'LiuHu': {'compound': 0.0, 'neg': 0.0, 'neu': 1.0, 'pos': 0.0},\n",
       "  'Vader': {'compound': 0.0, 'neg': 0.0, 'neu': 1.0, 'pos': 0.0}},\n",
       " {'LiuHu': {'compound': 0.0, 'neg': 0.0, 'neu': 1.0, 'pos': 0.0},\n",
       "  'Vader': {'compound': 0.0, 'neg': 0.0, 'neu': 1.0, 'pos': 0.0}},\n",
       " {'LiuHu': {'compound': 0.0, 'neg': 0.0, 'neu': 1.0, 'pos': 0.0},\n",
       "  'Vader': {'compound': 0.0, 'neg': 0.0, 'neu': 1.0, 'pos': 0.0}},\n",
       " {'LiuHu': {'compound': 0.0, 'neg': 0.0, 'neu': 1.0, 'pos': 0.0},\n",
       "  'Vader': {'compound': 0.0, 'neg': 0.0, 'neu': 1.0, 'pos': 0.0}},\n",
       " {'LiuHu': {'compound': 0.0, 'neg': 0.0, 'neu': 1.0, 'pos': 0.0},\n",
       "  'Vader': {'compound': 0.0, 'neg': 0.0, 'neu': 1.0, 'pos': 0.0}},\n",
       " {'LiuHu': {'compound': 0.0, 'neg': 0.0, 'neu': 1.0, 'pos': 0.0},\n",
       "  'Vader': {'compound': 0.0, 'neg': 0.0, 'neu': 1.0, 'pos': 0.0}},\n",
       " {'LiuHu': {'compound': 0.0, 'neg': 0.0, 'neu': 1.0, 'pos': 0.0},\n",
       "  'Vader': {'compound': 0.0, 'neg': 0.0, 'neu': 1.0, 'pos': 0.0}},\n",
       " {'LiuHu': {'compound': 0.0, 'neg': 0.0, 'neu': 1.0, 'pos': 0.0},\n",
       "  'Vader': {'compound': 0.0, 'neg': 0.0, 'neu': 1.0, 'pos': 0.0}},\n",
       " {'LiuHu': {'compound': 0.0, 'neg': 0.0, 'neu': 1.0, 'pos': 0.0},\n",
       "  'Vader': {'compound': 0.0, 'neg': 0.0, 'neu': 1.0, 'pos': 0.0}},\n",
       " {'LiuHu': {'compound': 0.0, 'neg': 0.0, 'neu': 1.0, 'pos': 0.0},\n",
       "  'Vader': {'compound': 0.0, 'neg': 0.0, 'neu': 1.0, 'pos': 0.0}},\n",
       " {'LiuHu': {'compound': 0.0, 'neg': 0.0, 'neu': 1.0, 'pos': 0.0},\n",
       "  'Vader': {'compound': 0.0, 'neg': 0.0, 'neu': 1.0, 'pos': 0.0}}]"
      ]
     },
     "execution_count": 14,
     "metadata": {},
     "output_type": "execute_result"
    }
   ],
   "source": [
    "sentimentGrams([tokens[:int(len(tokens)/2)]])\n",
    "sentimentGrams([tokens[int(len(tokens)/2):]])\n",
    "sentimentGrams(ngrams(tokens, 3))"
   ]
  },
  {
   "cell_type": "code",
   "execution_count": 15,
   "metadata": {
    "collapsed": false
   },
   "outputs": [
    {
     "data": {
      "text/plain": [
       "[{'LiuHu': {'compound': -0.027, 'neg': 0.027, 'neu': 0.973, 'pos': 0.0},\n",
       "  'Vader': {'compound': -0.3612, 'neg': 0.072, 'neu': 0.928, 'pos': 0.0}}]"
      ]
     },
     "execution_count": 15,
     "metadata": {},
     "output_type": "execute_result"
    }
   ],
   "source": [
    "sentimentGrams([tokens])"
   ]
  },
  {
   "cell_type": "markdown",
   "metadata": {
    "collapsed": false
   },
   "source": [
    "## Chunk and Entity Removal"
   ]
  },
  {
   "cell_type": "code",
   "execution_count": 16,
   "metadata": {
    "collapsed": false
   },
   "outputs": [
    {
     "data": {
      "text/plain": [
       "[('I', 'PRP'),\n",
       " ('had', 'VBD'),\n",
       " ('my', 'PRP$'),\n",
       " ('suspicions', 'NNS'),\n",
       " ('in', 'IN'),\n",
       " ('early', 'JJ'),\n",
       " ('NumTok', '[CD]'),\n",
       " ('Who', 'WP'),\n",
       " (\"wouldn't\", 'VBP'),\n",
       " ('That', 'DT'),\n",
       " ('is', 'VBZ'),\n",
       " ('why', 'WRB'),\n",
       " ('when', 'WRB'),\n",
       " ('my', 'PRP$'),\n",
       " ('wife', 'NN'),\n",
       " ('Stacy', 'NNP'),\n",
       " ('out', 'RP'),\n",
       " ('on', 'IN'),\n",
       " ('her', 'PRP$'),\n",
       " ('daily', 'JJ'),\n",
       " ('walk', 'NN'),\n",
       " ('yesterday', 'NN'),\n",
       " ('I', 'PRP'),\n",
       " ('texted', 'VBD'),\n",
       " ('my', 'PRP$'),\n",
       " ('Stacy', 'NN'),\n",
       " ('that', 'IN'),\n",
       " ('I', 'PRP'),\n",
       " ('was', 'VBD'),\n",
       " ('going', 'VBG'),\n",
       " ('shopping', 'NN'),\n",
       " ('and', 'CC'),\n",
       " ('I', 'PRP'),\n",
       " ('would', 'MD'),\n",
       " ('be', 'VB'),\n",
       " ('back', 'RB'),\n",
       " ('soon', 'RB')]"
      ]
     },
     "execution_count": 16,
     "metadata": {},
     "output_type": "execute_result"
    }
   ],
   "source": [
    "chunked = chunk(tagged)\n",
    "removeNamedEntities(chunked, removeNumbers=True)"
   ]
  },
  {
   "cell_type": "code",
   "execution_count": 17,
   "metadata": {
    "collapsed": false
   },
   "outputs": [
    {
     "data": {
      "text/plain": [
       "[('I', 'PRP'),\n",
       " ('had', 'VBD'),\n",
       " ('my', 'PRP$'),\n",
       " ('suspicions', 'NNS'),\n",
       " ('in', 'IN'),\n",
       " ('early', 'JJ'),\n",
       " ('2003', 'CD'),\n",
       " ('Who', 'WP'),\n",
       " (\"wouldn't\", 'VBP'),\n",
       " ('That', 'DT'),\n",
       " ('is', 'VBZ'),\n",
       " ('why', 'WRB'),\n",
       " ('when', 'WRB'),\n",
       " ('my', 'PRP$'),\n",
       " ('wife', 'NN'),\n",
       " ('Stacy', 'NNP'),\n",
       " ('out', 'RP'),\n",
       " ('on', 'IN'),\n",
       " ('her', 'PRP$'),\n",
       " ('daily', 'JJ'),\n",
       " ('walk', 'NN'),\n",
       " ('yesterday', 'NN'),\n",
       " ('I', 'PRP'),\n",
       " ('texted', 'VBD'),\n",
       " ('my', 'PRP$'),\n",
       " ('Stacy', 'NN'),\n",
       " ('that', 'IN'),\n",
       " ('I', 'PRP'),\n",
       " ('was', 'VBD'),\n",
       " ('going', 'VBG'),\n",
       " ('shopping', 'NN'),\n",
       " ('and', 'CC'),\n",
       " ('I', 'PRP'),\n",
       " ('would', 'MD'),\n",
       " ('be', 'VB'),\n",
       " ('back', 'RB'),\n",
       " ('soon', 'RB')]"
      ]
     },
     "execution_count": 17,
     "metadata": {},
     "output_type": "execute_result"
    }
   ],
   "source": [
    "removeNamedEntities(chunked, removeNumbers=False)"
   ]
  },
  {
   "cell_type": "markdown",
   "metadata": {
    "collapsed": true
   },
   "source": [
    "## Punctuation features"
   ]
  },
  {
   "cell_type": "code",
   "execution_count": 18,
   "metadata": {
    "collapsed": false
   },
   "outputs": [
    {
     "data": {
      "text/plain": [
       "{'!_RAW': 0.0,\n",
       " '!_RAW/LEN': 0.0,\n",
       " '!_RAW/TOTAL_PUNCT_FOUND': 0.0,\n",
       " '\"_RAW': 0.0,\n",
       " '\"_RAW/LEN': 0.0,\n",
       " '\"_RAW/TOTAL_PUNCT_FOUND': 0.0,\n",
       " '#_RAW': 0.0,\n",
       " '#_RAW/LEN': 0.0,\n",
       " '#_RAW/TOTAL_PUNCT_FOUND': 0.0,\n",
       " '$_RAW': 0.0,\n",
       " '$_RAW/LEN': 0.0,\n",
       " '$_RAW/TOTAL_PUNCT_FOUND': 0.0,\n",
       " '%_RAW': 0.0,\n",
       " '%_RAW/LEN': 0.0,\n",
       " '%_RAW/TOTAL_PUNCT_FOUND': 0.0,\n",
       " '&_RAW': 0.0,\n",
       " '&_RAW/LEN': 0.0,\n",
       " '&_RAW/TOTAL_PUNCT_FOUND': 0.0,\n",
       " \"'_RAW\": 1,\n",
       " \"'_RAW/LEN\": 0.0054,\n",
       " \"'_RAW/TOTAL_PUNCT_FOUND\": 0.1429,\n",
       " '(_RAW': 0.0,\n",
       " '(_RAW/LEN': 0.0,\n",
       " '(_RAW/TOTAL_PUNCT_FOUND': 0.0,\n",
       " ')_RAW': 0.0,\n",
       " ')_RAW/LEN': 0.0,\n",
       " ')_RAW/TOTAL_PUNCT_FOUND': 0.0,\n",
       " '*_RAW': 0.0,\n",
       " '*_RAW/LEN': 0.0,\n",
       " '*_RAW/TOTAL_PUNCT_FOUND': 0.0,\n",
       " '+_RAW': 0.0,\n",
       " '+_RAW/LEN': 0.0,\n",
       " '+_RAW/TOTAL_PUNCT_FOUND': 0.0,\n",
       " ',_RAW': 3,\n",
       " ',_RAW/LEN': 0.0163,\n",
       " ',_RAW/TOTAL_PUNCT_FOUND': 0.4286,\n",
       " '-_RAW': 0.0,\n",
       " '-_RAW/LEN': 0.0,\n",
       " '-_RAW/TOTAL_PUNCT_FOUND': 0.0,\n",
       " '._RAW': 2,\n",
       " '._RAW/LEN': 0.0109,\n",
       " '._RAW/TOTAL_PUNCT_FOUND': 0.2857,\n",
       " '/_RAW': 0.0,\n",
       " '/_RAW/LEN': 0.0,\n",
       " '/_RAW/TOTAL_PUNCT_FOUND': 0.0,\n",
       " ':_RAW': 0.0,\n",
       " ':_RAW/LEN': 0.0,\n",
       " ':_RAW/TOTAL_PUNCT_FOUND': 0.0,\n",
       " ';_RAW': 0.0,\n",
       " ';_RAW/LEN': 0.0,\n",
       " ';_RAW/TOTAL_PUNCT_FOUND': 0.0,\n",
       " '<_RAW': 0.0,\n",
       " '<_RAW/LEN': 0.0,\n",
       " '<_RAW/TOTAL_PUNCT_FOUND': 0.0,\n",
       " '=_RAW': 0.0,\n",
       " '=_RAW/LEN': 0.0,\n",
       " '=_RAW/TOTAL_PUNCT_FOUND': 0.0,\n",
       " '>_RAW': 0.0,\n",
       " '>_RAW/LEN': 0.0,\n",
       " '>_RAW/TOTAL_PUNCT_FOUND': 0.0,\n",
       " '?_RAW': 1,\n",
       " '?_RAW/LEN': 0.0054,\n",
       " '?_RAW/TOTAL_PUNCT_FOUND': 0.1429,\n",
       " '@_RAW': 0.0,\n",
       " '@_RAW/LEN': 0.0,\n",
       " '@_RAW/TOTAL_PUNCT_FOUND': 0.0,\n",
       " 'TOTAL': 7,\n",
       " 'TOTAL/LENGTH': 0.038,\n",
       " '[_RAW': 0.0,\n",
       " '[_RAW/LEN': 0.0,\n",
       " '[_RAW/TOTAL_PUNCT_FOUND': 0.0,\n",
       " '\\\\_RAW': 0.0,\n",
       " '\\\\_RAW/LEN': 0.0,\n",
       " '\\\\_RAW/TOTAL_PUNCT_FOUND': 0.0,\n",
       " ']_RAW': 0.0,\n",
       " ']_RAW/LEN': 0.0,\n",
       " ']_RAW/TOTAL_PUNCT_FOUND': 0.0,\n",
       " '^_RAW': 0.0,\n",
       " '^_RAW/LEN': 0.0,\n",
       " '^_RAW/TOTAL_PUNCT_FOUND': 0.0,\n",
       " '__RAW': 0.0,\n",
       " '__RAW/LEN': 0.0,\n",
       " '__RAW/TOTAL_PUNCT_FOUND': 0.0,\n",
       " '`_RAW': 0.0,\n",
       " '`_RAW/LEN': 0.0,\n",
       " '`_RAW/TOTAL_PUNCT_FOUND': 0.0,\n",
       " '{_RAW': 0.0,\n",
       " '{_RAW/LEN': 0.0,\n",
       " '{_RAW/TOTAL_PUNCT_FOUND': 0.0,\n",
       " '|_RAW': 0.0,\n",
       " '|_RAW/LEN': 0.0,\n",
       " '|_RAW/TOTAL_PUNCT_FOUND': 0.0,\n",
       " '}_RAW': 0.0,\n",
       " '}_RAW/LEN': 0.0,\n",
       " '}_RAW/TOTAL_PUNCT_FOUND': 0.0,\n",
       " '~_RAW': 0.0,\n",
       " '~_RAW/LEN': 0.0,\n",
       " '~_RAW/TOTAL_PUNCT_FOUND': 0.0}"
      ]
     },
     "execution_count": 18,
     "metadata": {},
     "output_type": "execute_result"
    }
   ],
   "source": [
    "punctuationFeatures(text)"
   ]
  },
  {
   "cell_type": "code",
   "execution_count": null,
   "metadata": {
    "collapsed": true
   },
   "outputs": [],
   "source": []
  }
 ],
 "metadata": {
  "anaconda-cloud": {},
  "kernelspec": {
   "display_name": "Python [conda root]",
   "language": "python",
   "name": "conda-root-py"
  },
  "language_info": {
   "codemirror_mode": {
    "name": "ipython",
    "version": 3
   },
   "file_extension": ".py",
   "mimetype": "text/x-python",
   "name": "python",
   "nbconvert_exporter": "python",
   "pygments_lexer": "ipython3",
   "version": "3.5.2"
  }
 },
 "nbformat": 4,
 "nbformat_minor": 0
}
