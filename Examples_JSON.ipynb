{
 "cells": [
  {
   "cell_type": "code",
   "execution_count": null,
   "metadata": {
    "collapsed": true
   },
   "outputs": [],
   "source": [
    "import ijson"
   ]
  },
  {
   "cell_type": "code",
   "execution_count": null,
   "metadata": {
    "collapsed": true
   },
   "outputs": [],
   "source": [
    "def tweet_map(json_file, tweet_func, save=False):\n",
    "    \"\"\"\n",
    "    Apply a function to each tweet in a json file \n",
    "    \n",
    "    json_file - path to tweet json file\n",
    "    tweet_func - function that takes in a 'tweet' object, and returns a 'tweet' object\n",
    "    save (optional) - overwrite json_file with modified json\n",
    "    \n",
    "    returns list where each tweet has tweet_func applied to it\n",
    "   \n",
    "    \"\"\"\n",
    "    mapped_tweets = []\n",
    "    with open(json_file, 'r') as f:\n",
    "        for tweet in ijson.items(f, \"item\"):\n",
    "            mapped_tweets.append(tweet_func(tweet))\n",
    "    if save:\n",
    "        list_to_json(mapped_tweets, json_file)\n",
    "    return mapped_tweets"
   ]
  },
  {
   "cell_type": "code",
   "execution_count": null,
   "metadata": {
    "collapsed": false
   },
   "outputs": [],
   "source": [
    "def add_test(tweet):\n",
    "    tweet[\"test\"] = True\n",
    "    return tweet\n",
    "\n",
    "processed_tweets = tweet_map(\"../json/sarcastic/unique.json\", add_test)\n",
    "processed_tweets"
   ]
  },
  {
   "cell_type": "code",
   "execution_count": null,
   "metadata": {
    "collapsed": true
   },
   "outputs": [],
   "source": [
    "def tweet_iterate(json_file, key=None):\n",
    "    \"\"\"\n",
    "    Stream through objects in a json file\n",
    "\n",
    "    json_file - path to tweet json file\n",
    "    key (optional) - single key value of interest (ex: return only \"text\" field, or only \"id\" field of each tweet)\n",
    "    \"\"\"\n",
    "\n",
    "    with open(json_file, 'r') as f:\n",
    "        if key:\n",
    "            for tweet in ijson.items(f, \"item.{}\".format(key)):\n",
    "                yield tweet\n",
    "        else:\n",
    "            for tweet in ijson.items(f, \"item\"):\n",
    "                yield tweet"
   ]
  },
  {
   "cell_type": "code",
   "execution_count": null,
   "metadata": {
    "collapsed": false,
    "scrolled": true
   },
   "outputs": [],
   "source": [
    "for thing in tweet_iterate(\"../json/sarcastic/unique.json\"):\n",
    "    print(thing)"
   ]
  },
  {
   "cell_type": "code",
   "execution_count": null,
   "metadata": {
    "collapsed": false,
    "scrolled": true
   },
   "outputs": [],
   "source": [
    "# partial iteration on a generator using itertools\n",
    "import itertools\n",
    "for thing in itertools.islice(tweet_iterate(\"../json/sarcastic/unique.json\"), 25):\n",
    "    print(thing)"
   ]
  }
 ],
 "metadata": {
  "anaconda-cloud": {},
  "kernelspec": {
   "display_name": "Python3 (senior-design)",
   "language": "python",
   "name": "senior-design"
  },
  "language_info": {
   "codemirror_mode": {
    "name": "ipython",
    "version": 3
   },
   "file_extension": ".py",
   "mimetype": "text/x-python",
   "name": "python",
   "nbconvert_exporter": "python",
   "pygments_lexer": "ipython3",
   "version": "3.5.2"
  }
 },
 "nbformat": 4,
 "nbformat_minor": 1
}
