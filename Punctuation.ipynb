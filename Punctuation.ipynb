{
 "cells": [
  {
   "cell_type": "markdown",
   "metadata": {},
   "source": [
    "## Punctuation features\n"
   ]
  },
  {
   "cell_type": "code",
   "execution_count": null,
   "metadata": {
    "collapsed": false
   },
   "outputs": [],
   "source": [
    "from json_io import tweet_iterate\n",
    "from basic_nlp import nlp, PUNCTUATION_RE\n",
    "\n",
    "import itertools\n",
    "import re\n",
    "\n",
    "PATH_SARCASTIC_TWEETS = \"../json/sarcastic/unique.json\"\n",
    "n = nlp()"
   ]
  },
  {
   "cell_type": "code",
   "execution_count": null,
   "metadata": {
    "collapsed": true
   },
   "outputs": [],
   "source": [
    "# See lower slides for explanation of is_surrogate_escaped() and remove_surrogate_escaping()\n",
    "\n",
    "# Suggested methods by author of article\n",
    "\n",
    "def remove_surrogate_escaping(s, method='ignore'):\n",
    "    assert method in ('ignore', 'replace'), 'invalid removal method'\n",
    "    return s.encode('utf-8', method).decode('utf-8')\n",
    "\n",
    "def is_surrogate_escaped(s):\n",
    "    try:\n",
    "        s.encode('utf-8')\n",
    "    except UnicodeEncodeError as e:\n",
    "        if e.reason == 'surrogates not allowed':\n",
    "            return True\n",
    "        raise\n",
    "    return False"
   ]
  },
  {
   "cell_type": "code",
   "execution_count": null,
   "metadata": {
    "collapsed": false
   },
   "outputs": [],
   "source": [
    "def punctuation_features(s):\n",
    "    \"\"\"\n",
    "    Process a string for punctuation features. Punctuation defined by the regular expression:\n",
    "    [\\'\\!\\\"\\#\\$\\%\\&\\/\\(\\)\\*\\+\\,\\-\\.\\/\\:\\;\\<\\=\\>\\?\\@\\[\\]\\^\\_\\`\\{\\}\\|\\~\\\\u2026]\n",
    "    Which consists of punctuation in string.punctuation, and the unicode char \\u2026 (ellipsis)\n",
    "    \n",
    "    s: input string\n",
    "    returns {punctuation_mark: (raw #, % of length of s, % of total # of punctuation marks found in s)}\n",
    "    \n",
    "    example:\n",
    "    punctuation_features(\"Lorem ipsum dolor sit amet, consectetur adipiscing elit. Sed consequat magna eu facilisis!!?\")\n",
    "    {'!': (2, 0.0217, 0.4),\n",
    "     ',': (1, 0.0109, 0.2),\n",
    "     '.': (1, 0.0109, 0.2),\n",
    "     '?': (1, 0.0109, 0.2)}\n",
    "    \"\"\"\n",
    "    \n",
    "    punctuation_found_list = re.findall(PUNCTUATION_RE, s)\n",
    "    return {p: (punctuation_found_list.count(p),\n",
    "                round(punctuation_found_list.count(p)/len(s), 4), \n",
    "                round(punctuation_found_list.count(p)/len(punctuation_found_list), 4)) for p in punctuation_found_list} "
   ]
  },
  {
   "cell_type": "code",
   "execution_count": null,
   "metadata": {
    "collapsed": false
   },
   "outputs": [],
   "source": [
    "for tweet in itertools.islice(tweet_iterate(PATH_SARCASTIC_TWEETS), 25):\n",
    "    text = tweet[\"text\"]\n",
    "    if is_surrogate_escaped(text):\n",
    "        text = remove_surrogate_escaping(text)\n",
    "    print(\"text: {} \\n punctuation features: {} \\n\".format(text, punctuation_features(text)))"
   ]
  },
  {
   "cell_type": "markdown",
   "metadata": {},
   "source": [
    "## Issue: Surrogate escaped strings\n",
    "\n",
    "Read [http://lucumr.pocoo.org/2013/7/2/the-updated-guide-to-unicode/](http://lucumr.pocoo.org/2013/7/2/the-updated-guide-to-unicode/)"
   ]
  },
  {
   "cell_type": "markdown",
   "metadata": {},
   "source": [
    "#### TLDR; \n",
    "These are unicode strings that cannot be encoded to a unicode encoding because they are actually invalid. These strings are created by APIs that think an encoding is a specific one but cannot guarantee it because the underlying system does not fully enforce that. This functionality is provided by the 'surrogateescape' error handler."
   ]
  },
  {
   "cell_type": "markdown",
   "metadata": {},
   "source": [
    "#### Example tweet\n",
    "\n",
    "Ears lowered big ears to lower \\ud83d\\udc87\\u200d\\u2642\\ufe0f\\ud83d\\ude02 #Trim #BigEars #Jokes #Selfie #MugShot #Weekend #Smile #Happy #Sarcasm\\u2026 https://t.co/oXK7RHlODU\n",
    "_______\n",
    "[https://twitter.com/jasonstats09/status/827589626944770049](https://twitter.com/jasonstats09/status/827589626944770049)\n",
    "\n",
    "![alt text](https://image.ibb.co/jPkKBF/Screen_Shot_2017_03_16_at_4_03_36_PM.png)"
   ]
  },
  {
   "cell_type": "code",
   "execution_count": null,
   "metadata": {
    "collapsed": false
   },
   "outputs": [],
   "source": [
    "tweet = \"Ears lowered big ears to lower \\ud83d\\udc87\\u200d\\u2642\\ufe0f\\ud83d\\ude02 #Trim #BigEars #Jokes #Selfie #MugShot #Weekend #Smile #Happy #Sarcasm\\u2026 https://t.co/oXK7RHlODU\"\n",
    "# print(tweet)\n",
    "# Uncomment line above to try, crashes with UnicodeEncodeError (for some reason error is dumped to terminal running jupyter notebook, and crashes notebook kernel)"
   ]
  },
  {
   "cell_type": "code",
   "execution_count": null,
   "metadata": {
    "collapsed": false
   },
   "outputs": [],
   "source": [
    "# Have to encode with \"ignore\" or \"replace\" option\n",
    "print(tweet.encode(\"utf-8\", \"ignore\").decode(\"utf-8\"))\n",
    "print(tweet.encode(\"utf-8\", \"replace\").decode(\"utf-8\"))"
   ]
  }
 ],
 "metadata": {
  "anaconda-cloud": {},
  "kernelspec": {
   "display_name": "Python3 (senior-design)",
   "language": "python",
   "name": "senior-design"
  },
  "language_info": {
   "codemirror_mode": {
    "name": "ipython",
    "version": 3
   },
   "file_extension": ".py",
   "mimetype": "text/x-python",
   "name": "python",
   "nbconvert_exporter": "python",
   "pygments_lexer": "ipython3",
   "version": "3.5.2"
  }
 },
 "nbformat": 4,
 "nbformat_minor": 1
}
